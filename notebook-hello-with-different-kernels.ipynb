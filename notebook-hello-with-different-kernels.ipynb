{
 "cells": [
  {
   "cell_type": "markdown",
   "id": "7efbb7d8-071f-404f-8924-2bbacb9cdee6",
   "metadata": {},
   "source": [
    "# Jupyter Notebook with a Rust, R, and python kernel\n",
    "\n",
    "Steps to get it working:\n",
    "\n",
    " - install `uv`. See https://docs.astral.sh/uv/getting-started/installation/\n",
    " - install `R`. See https://www.r-project.org/\n",
    " - install Rust. See https://www.rust-lang.org/tools/install\n",
    "\n",
    "```\n",
    "uv init notebook_hello\n",
    "cd notebook_hello\n",
    "uv add --dev ipykernel\n",
    "uv run ipython kernel install --user --name notebook_hello\n",
    "uv run --with jupyter jupyter lab \n",
    "```\n",
    "\n",
    "\n",
    "\n"
   ]
  },
  {
   "cell_type": "markdown",
   "id": "6e96ad48-b00c-44b4-9e1e-2c63642ca751",
   "metadata": {},
   "source": [
    "## Rust code"
   ]
  },
  {
   "cell_type": "code",
   "execution_count": 2,
   "id": "82a05c78-c286-4282-88fc-5326be727f15",
   "metadata": {},
   "outputs": [
    {
     "name": "stdout",
     "output_type": "stream",
     "text": [
      "Hello, Rustaceans!!\n",
      "Rust compiler version: rustc 1.83.0 (90b35a623 2024-11-26)\n"
     ]
    }
   ],
   "source": [
    "// NB: Manually, switch to Rust kernel first\n",
    "use std::process::Command;\n",
    "let output = Command::new(\"rustc\")\n",
    "        .arg(\"--version\")\n",
    "        .output()\n",
    "        .expect(\"Failed to get Rust version\");\n",
    "let rust_version = String::from_utf8_lossy(&output.stdout).to_string();\n",
    "println!(\"Hello, Rustaceans!!\");\n",
    "println!(\"Rust compiler version: {}\", rust_version.trim());\n"
   ]
  },
  {
   "cell_type": "markdown",
   "id": "87c3155b-9897-4a8a-aeeb-b84eda195bbf",
   "metadata": {},
   "source": [
    "## R code"
   ]
  },
  {
   "cell_type": "code",
   "execution_count": 1,
   "id": "e2b37822-dc3d-4a34-ad03-659903f98315",
   "metadata": {},
   "outputs": [
    {
     "name": "stdout",
     "output_type": "stream",
     "text": [
      "Hello, R users!\n",
      " R version 4.4.2 (2024-10-31)"
     ]
    }
   ],
   "source": [
    "## NB: Manually switch to the R kernel first\n",
    "cat(\"Hello, R users!\\n\", R.version$version.string)\n"
   ]
  },
  {
   "cell_type": "markdown",
   "id": "91a516bc-c280-4469-b894-ea9ea8324f02",
   "metadata": {},
   "source": [
    "## Python code"
   ]
  },
  {
   "cell_type": "code",
   "execution_count": 1,
   "id": "ea2d5308-7839-43a6-a80b-3ff12c7e6bf0",
   "metadata": {},
   "outputs": [
    {
     "name": "stdout",
     "output_type": "stream",
     "text": [
      "Hello, Python users!\n",
      "Python 3.11.4\n"
     ]
    }
   ],
   "source": [
    "print(f\"Hello, Python users!\")\n",
    "!python --version"
   ]
  },
  {
   "cell_type": "markdown",
   "id": "86d9604c-24cb-49ad-99d0-acb25eab4ac0",
   "metadata": {},
   "source": [
    "## Clojure code"
   ]
  },
  {
   "cell_type": "code",
   "execution_count": 12,
   "id": "37bca00f-b1cd-48cc-872c-6e4c5afaf2dc",
   "metadata": {},
   "outputs": [
    {
     "name": "stdout",
     "output_type": "stream",
     "text": [
      "Hello from Clojure, version:  1.12.0\n"
     ]
    },
    {
     "data": {
      "text/plain": [
       "nil"
      ]
     },
     "execution_count": 12,
     "metadata": {},
     "output_type": "execute_result"
    }
   ],
   "source": [
    "(require '[clojure.string :as str])\n",
    "(println \"Hello from Clojure, version: \"\n",
    "(str/join \".\" (mapv (fn [k] (str (k *clojure-version*))) [:major :minor :incremental]))\n",
    ")"
   ]
  },
  {
   "cell_type": "code",
   "execution_count": null,
   "id": "47ffb1a3-286d-4fcb-9187-2ee3a05a13ff",
   "metadata": {},
   "outputs": [],
   "source": []
  }
 ],
 "metadata": {
  "kernelspec": {
   "display_name": "Clojure (clojupyter-0.5.424-snapshot424)",
   "language": "clojure",
   "name": "clojupyter-0.5.424-snapshot424"
  },
  "language_info": {
   "file_extension": ".clj",
   "mimetype": "text/x-clojure",
   "name": "clojure",
   "version": "1.12.0"
  }
 },
 "nbformat": 4,
 "nbformat_minor": 5
}
